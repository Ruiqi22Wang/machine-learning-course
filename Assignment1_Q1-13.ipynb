{
 "cells": [
  {
   "cell_type": "markdown",
   "metadata": {},
   "source": [
    "# Assignment 1 - Probability, Linear Algebra, Programming, and Git\n",
    "\n",
    "## *Ruiqi Wang*\n",
    "Netid:  *rw195*"
   ]
  },
  {
   "cell_type": "markdown",
   "metadata": {},
   "source": [
    "# Probability and Statistics Theory"
   ]
  },
  {
   "cell_type": "markdown",
   "metadata": {
    "collapsed": true
   },
   "source": [
    "## 1\n",
    "Let $f(x) = \\begin{cases}\n",
    "                0           & x < 0  \\\\\n",
    "                \\alpha x^2  & 0 \\leq x \\leq 2 \\\\\n",
    "                0           & 2 < x\n",
    "            \\end{cases}$\n",
    "            \n",
    "For what value of $\\alpha$ is $f(x)$ a valid probability density function?\n",
    "\n",
    "*Note: for all assignments, write out all equations and math for all assignments using markdown and [LaTeX](https://tobi.oetiker.ch/lshort/lshort.pdf) and show all work*"
   ]
  },
  {
   "cell_type": "markdown",
   "metadata": {},
   "source": [
    "**ANSWER**\n",
    "\n",
    "Let $f(x)$ to be a valid probability density function, then $\\int_{-\\infty}^{+\\infty} f(x) = 1$. \n",
    "\n",
    "$\\int_{-\\infty}^{0} f(x)+ \\int_{0}^{2} f(x)+\\int_{2}^{+\\infty} f(x) = 1$\n",
    "\n",
    "$\\int_{0}^{2} \\alpha x^2 \\mathrm{d}x = 1$\n",
    "\n",
    "$\\alpha=3/8$\n",
    "\n"
   ]
  },
  {
   "cell_type": "markdown",
   "metadata": {},
   "source": [
    "## 2\n",
    "What is the cumulative distribution function (CDF) that corresponds to the following probability distribution function? Please state the value of the CDF for all possible values of $x$.\n",
    "\n",
    "$f(x) = \\begin{cases}\n",
    "    \\frac{1}{3} & 0 < x < 3 \\\\\n",
    "    0           & \\text{otherwise}\n",
    "    \\end{cases}$"
   ]
  },
  {
   "cell_type": "markdown",
   "metadata": {},
   "source": [
    "**ANSWER**\n",
    "\n",
    "Let the CDF for all x be P(x), when 0<X<3:\n",
    "\n",
    "$P(X) = \\int_{-\\infty}^{0} 0 \\mathrm{d}x + \\int_{0}^{X} 1/3 \\mathrm{d}x$\n",
    " \n",
    "$P(X)= 1/3X$\n",
    "\n",
    "Therefore, \n",
    "    \n",
    "$P(x) = \\begin{cases}\n",
    "    0 & x \\le 0 \\\\\n",
    "    1/3x           & 0 < x \\le 3 \\\\\n",
    "    1           & \\text{otherwise}\n",
    "    \\end{cases}$\n"
   ]
  },
  {
   "cell_type": "markdown",
   "metadata": {},
   "source": [
    "## 3\n",
    "For the probability distribution function for the random variable $X$,\n",
    "\n",
    "$f(x) = \\begin{cases}\n",
    "    \\frac{1}{3} & 0 < x < 3 \\\\\n",
    "    0           & \\text{otherwise}\n",
    "    \\end{cases}$\n",
    "    \n",
    "what is the (a) expected value and (b) variance of $X$. *Show all work*."
   ]
  },
  {
   "cell_type": "markdown",
   "metadata": {},
   "source": [
    "**ANSWER**\n",
    "\n",
    "(a) Expected value:\n",
    "\n",
    "\n",
    "$E(x) = \\int_{-\\infty}^{\\infty} x f(x) \\mathrm{d}x \\\\\n",
    "= 0 + \\int_0^3 \\ 1/3x \\mathrm{d}x + 0 \\\\\n",
    "= 3/2$\n",
    "\n",
    "(b) Variance:\n",
    "\n",
    "$Var(x) = \\int_{-\\infty}^{\\infty} (x - \\mu)^2 f(x) \\mathrm{d}x \\\\\n",
    "=\\int_0^3 1/3 {x^2} \\mathrm{d}x - \\mu^2\\\\\n",
    "=3 - \\mu^2$ \n",
    "\n",
    "Derived from (a), $\\mu = 2/3$, therefore\n",
    "\n",
    "Var(x) = 3/4\n",
    "\n"
   ]
  },
  {
   "cell_type": "markdown",
   "metadata": {},
   "source": [
    "## 4\n",
    "Consider the following table of data that provides the values of a discrete data vector $\\mathbf{x}$ of samples from the random variable $X$, where each entry in $\\mathbf{x}$ is given as $x_i$.\n",
    "\n",
    "*Table 1. Dataset N=5 observations*\n",
    "\n",
    "|        | $x_0$ | $x_1$ | $x_2$ | $x_3$ | $x_4$ |\n",
    "|------  |-------|-------|-------|-------|-------|\n",
    "|$\\textbf{x}$| 2     | 3     | 10    | -1    | -1    |\n",
    "\n",
    "What is the (a) mean, (b) variance, and the  of the data? \n",
    "\n",
    "*Show all work. Your answer should include the definition of mean, median, and variance in the context of discrete data.*"
   ]
  },
  {
   "cell_type": "markdown",
   "metadata": {},
   "source": [
    "**ANSWER**\n",
    "\n",
    "(a) Mean\n",
    "\n",
    "$Mean = \\frac1N \\sum_0^N x_i$\n",
    "= (2+3+10-1-1)/5 = 13/5\n",
    "\n",
    "\n",
    "(b) Variance\n",
    "\n",
    "$Variance = \\frac1N \\sum_0^N (x_i - Mean)^2$\n",
    "= 1/5((2-13/5)^2 + (3-13/5)^2 + (10-13/5)^2 + (-1-13/5)^2 + (-1-13/5)^2) = 406/25\n",
    "\n",
    "(c) Median\n",
    "\n",
    "The median is the value separating the higher half from the lower half of a data sample.<br>\n",
    "Here the Median of X is 2.\n"
   ]
  },
  {
   "cell_type": "markdown",
   "metadata": {},
   "source": [
    "## 5\n",
    "Review of counting from probability theory. \n",
    "\n",
    "(a) How many different 7-place license plates are possible if the first 3 places only contain letters and the last 4 only contain numbers?\n",
    "\n",
    "(b) How many different batting orders are possible for a baseball team with 9 players?\n",
    "\n",
    "(c) How many batting orders of 5 players are possible for a team with 9 players total?\n",
    "\n",
    "(d) Let's assume this class has 26 students and we want to form project teams. How many unique teams of 3 are possible?\n",
    "\n",
    "*Hint: For each problem, determine if order matters, and if it should be calculated with or without replacement.*"
   ]
  },
  {
   "cell_type": "markdown",
   "metadata": {},
   "source": [
    "**ANSWER**\n",
    "\n",
    "(a) Order matters, with replacement.<br>26^3 * 10^4 = 175760000\n",
    "\n",
    "(b) Order matters, without replacement.<br> 9! = 362880\n",
    "\n",
    "(c) Order matters, without replacement. <br> $9\\choose 5$ * 5! = 15120\n",
    "\n",
    "(d) Order doesn't matter, withou replacement. <br> $26 \\choose 3$ = 2600\n",
    "\n"
   ]
  },
  {
   "cell_type": "markdown",
   "metadata": {},
   "source": [
    "# Linear Algebra"
   ]
  },
  {
   "cell_type": "markdown",
   "metadata": {},
   "source": [
    "## 6\n",
    "**Matrix manipulations and multiplication**. Machine learning involves working with many matrices, so this exercise will provide you with the opportunity to practice those skills.\n",
    "\n",
    "Let\n",
    "$\\mathbf{A} =  \\begin{bmatrix}\n",
    "1 & 2 & 3 \\\\\n",
    "2 & 4 & 5 \\\\\n",
    "3 & 5 & 6 \n",
    "\\end{bmatrix}$, $\\mathbf{b} =  \\begin{bmatrix}\n",
    "-1  \\\\\n",
    "3  \\\\\n",
    "8  \n",
    "\\end{bmatrix}$, $\\mathbf{c} =  \\begin{bmatrix}\n",
    "4  \\\\\n",
    "-3  \\\\\n",
    "6  \n",
    "\\end{bmatrix}$, and $\\mathbf{I} =  \\begin{bmatrix}\n",
    "1 & 0 & 0 \\\\\n",
    "0 & 1 & 0 \\\\\n",
    "0 & 0 & 1 \n",
    "\\end{bmatrix}$\n",
    "\n",
    "Compute the following or indicate that it cannot be computed:\n",
    "\n",
    "1. $\\mathbf{A}\\mathbf{A}$\n",
    "2. $\\mathbf{A}\\mathbf{A}^T$\n",
    "3. $\\mathbf{A}\\mathbf{b}$\n",
    "4. $\\mathbf{A}\\mathbf{b}^T$\n",
    "5. $\\mathbf{b}\\mathbf{A}$\n",
    "6. $\\mathbf{b}^T\\mathbf{A}$\n",
    "7. $\\mathbf{b}\\mathbf{b}$\n",
    "8. $\\mathbf{b}^T\\mathbf{b}$\n",
    "9. $\\mathbf{b}\\mathbf{b}^T$\n",
    "10. $\\mathbf{b} + \\mathbf{c}^T$\n",
    "11. $\\mathbf{b}^T\\mathbf{b}^T$\n",
    "12. $\\mathbf{A}^{-1}\\mathbf{b}$\n",
    "13. $\\mathbf{A}\\circ\\mathbf{A}$\n",
    "14. $\\mathbf{b}\\circ\\mathbf{c}$\n",
    "\n",
    "*Note: The element-wise (or Hadamard) product is the product of each element in one matrix with the corresponding element in another matrix, and is represented by the symbol \"$\\circ$\".*"
   ]
  },
  {
   "cell_type": "code",
   "execution_count": 3,
   "metadata": {},
   "outputs": [],
   "source": [
    "import numpy as np\n",
    "from numpy import linalg as la\n",
    "\n",
    "A = np.array([\n",
    "    [1,2,3],\n",
    "    [2,4,5],\n",
    "    [3,5,6]\n",
    "])\n",
    "b = np.array([-1,3,8]).reshape(3,1)\n",
    "c = np.array([4,-3,6]).reshape(3,1)\n",
    "I = np.array([\n",
    "    [1,0,0],\n",
    "    [0,1,0],\n",
    "    [0,0,1]\n",
    "])\n"
   ]
  },
  {
   "cell_type": "code",
   "execution_count": 7,
   "metadata": {},
   "outputs": [
    {
     "name": "stdout",
     "output_type": "stream",
     "text": [
      "1.\n",
      "AA=\n",
      " [[14 25 31]\n",
      " [25 45 56]\n",
      " [31 56 70]]\n",
      "\n",
      "2.\n",
      "AAT=\n",
      " [[14 25 31]\n",
      " [25 45 56]\n",
      " [31 56 70]]\n",
      "\n",
      "3.\n",
      "Ab=\n",
      " [[29]\n",
      " [50]\n",
      " [60]]\n",
      "\n",
      "4.\n",
      "AbT: cannot be computed\n",
      "\n",
      "5.\n",
      "bA: cannot be computed\n",
      "\n",
      "6.\n",
      "bTA=\n",
      " [[29 50 60]]\n",
      "\n",
      "7.\n",
      "bb: cannot be computed\n",
      "\n",
      "8.\n",
      "bTb=\n",
      " [[74]]\n",
      "\n",
      "9.\n",
      "bbT=\n",
      " [[ 1 -3 -8]\n",
      " [-3  9 24]\n",
      " [-8 24 64]]\n",
      "\n",
      "10.\n",
      "b+cT: cannot be computed\n",
      "\n",
      "11.\n",
      "bTbT: cannot be computed\n",
      "\n",
      "12.\n",
      "A^(-1)b=\n",
      " [[ 6.]\n",
      " [ 4.]\n",
      " [-5.]]\n",
      "\n",
      "13.\n",
      "A∘A=\n",
      " [[ 1  4  9]\n",
      " [ 4 16 25]\n",
      " [ 9 25 36]]\n",
      "\n",
      "14.\n",
      "b∘c=\n",
      " [[-4]\n",
      " [-9]\n",
      " [48]]\n"
     ]
    }
   ],
   "source": [
    "print('1.\\nAA=\\n', A@A)\n",
    "print('\\n2.\\nAAT=\\n', A@(A.T))\n",
    "print('\\n3.\\nAb=\\n', A@b)\n",
    "print('\\n4.\\nAbT:', 'cannot be computed')\n",
    "print('\\n5.\\nbA:', 'cannot be computed' )\n",
    "print('\\n6.\\nbTA=\\n', (b.T)@A)\n",
    "print('\\n7.\\nbb:', 'cannot be computed')\n",
    "print('\\n8.\\nbTb=\\n', (b.T)@b)\n",
    "print('\\n9.\\nbbT=\\n', b@(b.T))\n",
    "print('\\n10.\\nb+cT:', 'cannot be computed')\n",
    "print('\\n11.\\nbTbT:', 'cannot be computed')\n",
    "print('\\n12.\\nA^(-1)b=\\n', la.inv(A)@b)\n",
    "print('\\n13.\\nA∘A=\\n', A*A)\n",
    "print('\\n14.\\nb∘c=\\n', b*c)"
   ]
  },
  {
   "cell_type": "markdown",
   "metadata": {},
   "source": [
    "## 6\n",
    "**Eigenvectors and eigenvalues**. Eigenvectors and eigenvalues are useful for some machine learning algorithms, but the concepts take time to solidly grasp. For an intuitive review of these concepts, explore this [interactive website at Setosa.io](http://setosa.io/ev/eigenvectors-and-eigenvalues/). Also, the series of linear algebra videos by Grant Sanderson of 3Brown1Blue are excellent and can be viewed on youtube [here](https://www.youtube.com/playlist?list=PLZHQObOWTQDPD3MizzM2xVFitgF8hE_ab).\n",
    "\n",
    "1. Calculate the eigenvalues and corresponding eigenvectors of matrix $\\mathbf{A}$ above, from the last question.\n",
    "2. Choose one of the eigenvector/eigenvalue pairs, $\\mathbf{v}$ and $\\lambda$, and show that $\\mathbf{A} \\mathbf{v} = \\lambda \\mathbf{v}$. Also show that this relationship extends to higher orders: $\\mathbf{A} \\mathbf{A} \\mathbf{v} = \\lambda^2 \\mathbf{v}$\n",
    "3. Show that the eigenvectors are orthogonal to one another (e.g. their inner product is zero). This is true for real, symmetric matrices."
   ]
  },
  {
   "cell_type": "code",
   "execution_count": 145,
   "metadata": {},
   "outputs": [
    {
     "name": "stdout",
     "output_type": "stream",
     "text": [
      "1.\n",
      "eigenvalue1= -0.5157294715892574 \n",
      "eigenvector1= [-0.73697623 -0.32798528  0.59100905]\n",
      "\n",
      "eigenvalue2= 0.17091518882717727 \n",
      "eigenvector2= [ 0.59100905 -0.73697623  0.32798528]\n",
      "\n",
      "eigenvalue3= 11.344814282762073 \n",
      "eigenvector3= [-0.32798528 -0.59100905 -0.73697623]\n"
     ]
    }
   ],
   "source": [
    "val,vec = la.eigh(A)\n",
    "print('1.\\neigenvalue1=', val[0], '\\neigenvector1=', vec[:,0])\n",
    "print('\\neigenvalue2=', val[1], '\\neigenvector2=', vec[:,1])\n",
    "print('\\neigenvalue3=', val[2], '\\neigenvector3=', vec[:,2])"
   ]
  },
  {
   "cell_type": "code",
   "execution_count": 135,
   "metadata": {},
   "outputs": [
    {
     "name": "stdout",
     "output_type": "stream",
     "text": [
      "2.\n",
      "Av =  [ 0.38008036  0.16915167 -0.30480078] \n",
      "λv =  [ 0.38008036  0.16915167 -0.30480078]  = Av\n",
      "\n",
      "AAv =  [-0.19601864 -0.0872365   0.15719475] \n",
      "λ^2v =  [-0.19601864 -0.0872365   0.15719475]  = AAv\n"
     ]
    }
   ],
   "source": [
    "v = vec[:,0]; λ = val[0]\n",
    "print('2.\\nAv = ',A@v, '\\nλv = ', λ*v, ' = Av\\n')\n",
    "print('AAv = ', A@A@v, '\\nλ^2v = ', λ*λ*v, ' = AAv')"
   ]
  },
  {
   "cell_type": "code",
   "execution_count": 150,
   "metadata": {},
   "outputs": [
    {
     "name": "stdout",
     "output_type": "stream",
     "text": [
      "3.\n",
      "v0v1= -2.7755575615628914e-17 \n",
      "v0v2= -5.551115123125783e-17 \n",
      "v1v2= -2.220446049250313e-16\n"
     ]
    }
   ],
   "source": [
    "v0 = vec[:,0]; v1 = vec[:,1]; v2 = vec[:,2]\n",
    "print('3.\\nv0v1=',v0@v1, '\\nv0v2=',v0@v2, '\\nv1v2=', v1@v2)"
   ]
  },
  {
   "cell_type": "markdown",
   "metadata": {},
   "source": [
    "# Numerical Programming"
   ]
  },
  {
   "cell_type": "markdown",
   "metadata": {},
   "source": [
    "## 7\n",
    "Speed comparison between vectorized and non-vectorized code. Begin by creating an array of 10 million random numbers using the numpy random.randn module. Compute the sum of the squares first in a for loop, then using Numpy's `dot` module. Time how long it takes to compute each and report the results and report the output. How many times faster is the vectorized code than the for loop approach?\n",
    "\n",
    "*Note: all code should be well commented, properly formatted, and your answers should be output using the `print()` function as follows (where the # represents your answers, to a reasonable precision):\n",
    "\n",
    "`Time [sec] (non-vectorized): ######`\n",
    "\n",
    "`Time [sec] (vectorized):     ######`\n",
    "\n",
    "`The vectorized code is ##### times faster than the vectorized code`"
   ]
  },
  {
   "cell_type": "markdown",
   "metadata": {},
   "source": [
    "**ANSWER**"
   ]
  },
  {
   "cell_type": "code",
   "execution_count": 38,
   "metadata": {},
   "outputs": [
    {
     "name": "stdout",
     "output_type": "stream",
     "text": [
      "7.\n",
      "The result of the non-vectorized way is  9999267.874018246\n",
      "The result of the vectorized way is  9999267.874017272\n",
      "\n",
      "Time [sec] (non-vectorized): 2.7721\n",
      "Time [sec] (vectorized):     0.0046\n",
      "\n",
      "The vectorized code is 608.6 times faster than the non-vectorized code\n"
     ]
    }
   ],
   "source": [
    "import numpy as np\n",
    "import time\n",
    "\n",
    "# Generate the random samples\n",
    "l = np.random.randn(10000000)\n",
    "\n",
    "# Compute the sum of squares the non-vectorized way (using a for loop)\n",
    "t1=time.time()\n",
    "\n",
    "sum1 = 0\n",
    "for i in l:\n",
    "    sum1 += i*i\n",
    "\n",
    "t2=time.time()\n",
    "t21=t2-t1\n",
    "\n",
    "# Compute the sum of squares the vectorized way (using numpy)\n",
    "t3=time.time()\n",
    "sum2 = l@l\n",
    "t4=time.time()\n",
    "t43=t4-t3\n",
    "tint=t21/t43\n",
    "\n",
    "# Print the results\n",
    "print('7.\\nThe result of the non-vectorized way is ',sum1)\n",
    "print('The result of the vectorized way is ',sum2)\n",
    "print('\\nTime [sec] (non-vectorized): {0:.4f}\\nTime [sec] (vectorized):     {1:.4f}'.format(t21,t43))\n",
    "print('\\nThe vectorized code is {0:.1f} times faster than the non-vectorized code'.format(tint))"
   ]
  },
  {
   "cell_type": "markdown",
   "metadata": {},
   "source": [
    "## 8\n",
    "One popular Agile development framework is Scrum (a paradigm recommended for data science projects). It emphasizes the continual evolution of code for projects, becoming progressively better, but starting with a quickly developed minimum viable product. This often means that code written early on is not optimized, and that's a good thing - it's best to get it to work first before optimizing. Imagine that you wrote the following code during a sprint towards getting an end-to-end system working. Vectorize the following code and show the difference in speed between the current implementation and a vectorized version.\n",
    "\n",
    "The function below computes the function $f(x,y) = x^2 - 2 y^2$ and determines whether this quantity is above or below a given threshold, `thresh=0`. This is done for $x,y \\in \\{-4,4\\}$, over a 2,000-by-2,000 grid covering that domain.\n",
    "\n",
    "(a) Vectorize this code and demonstrate (as in the last exercise) the speed increase through vectorization and (b) plot the resulting data - both the function $f(x,y)$ and the thresholded output - using [`imshow`](https://matplotlib.org/api/_as_gen/matplotlib.pyplot.imshow.html?highlight=matplotlib%20pyplot%20imshow#matplotlib.pyplot.imshow) from `matplotlib`.\n",
    "\n",
    "*Hint: look at the `numpy` [`meshgrid`](https://docs.scipy.org/doc/numpy-1.13.0/reference/generated/numpy.meshgrid.html) documentation*"
   ]
  },
  {
   "cell_type": "code",
   "execution_count": 9,
   "metadata": {},
   "outputs": [
    {
     "name": "stdout",
     "output_type": "stream",
     "text": [
      "\n",
      "Time [sec] (non-vectorized): 6.2038\n",
      "Time [sec] (vectorized):     0.0438\n",
      "\n",
      "The vectorized code is 141.7 times faster than the non-vectorized code\n"
     ]
    },
    {
     "data": {
      "image/png": "[encoded data removed]",
      "text/plain": [
       "<Figure size 432x288 with 1 Axes>"
      ]
     },
     "metadata": {},
     "output_type": "display_data"
    }
   ],
   "source": [
    "# import numpy as np\n",
    "import time\n",
    "import matplotlib.pyplot as plt\n",
    "\n",
    "# Initialize variables for this exerise\n",
    "x = np.arange(-4,4,8/2000)\n",
    "y = np.arange(-4,4,8/2000)\n",
    "X, Y = np.meshgrid(x, y)\n",
    "thresh=0\n",
    "\n",
    "def fun1(x,y):\n",
    "    return x**2 - 2*y**2\n",
    "\n",
    "# Nonvectorized implementation\n",
    "z1_start = time.time()\n",
    "\n",
    "z1=np.zeros_like(X)\n",
    "for i, xi in enumerate(x):\n",
    "    for j,yj in enumerate(y):\n",
    "        z1[i,j] = fun1(xi,yj)\n",
    "        \n",
    "z1_end = time.time()\n",
    "z1_int = z1_end - z1_start\n",
    "        \n",
    "# Vectorized implementation\n",
    "z2_start = time.time()\n",
    "\n",
    "z2 = fun1(X,Y)\n",
    "\n",
    "z2_end = time.time()\n",
    "z2_int = z2_end - z2_start\n",
    "\n",
    "# Print the time for each and the speed increase\n",
    "print('\\nTime [sec] (non-vectorized): {0:.4f}\\nTime [sec] (vectorized):     {1:.4f}'.format(z1_int,z2_int))\n",
    "print('\\nThe vectorized code is {0:.1f} times faster than the non-vectorized code'.format(z1_int/z2_int))\n",
    "\n",
    "# Plot the result\n",
    "plt.imshow(z2, extent=(-4,4,-4,4))\n",
    "plt.xlabel('x')\n",
    "plt.ylabel('y')\n",
    "plt.title('f(x,y)=x^2−2*y^2')\n",
    "plt.show()"
   ]
  },
  {
   "cell_type": "code",
   "execution_count": 59,
   "metadata": {},
   "outputs": [
    {
     "data": {
      "image/png": "[encoded data removed]",
      "text/plain": [
       "<Figure size 432x288 with 1 Axes>"
      ]
     },
     "metadata": {},
     "output_type": "display_data"
    }
   ],
   "source": [
    "import matplotlib.patches\n",
    "z2[z2>0] = 1\n",
    "z2[z2<0] = -1\n",
    "im = plt.imshow(z2, extent=(-4,4,-4,4))\n",
    "vals = np.unique(z2.ravel())\n",
    "cols = [im.cmap(im.norm(value)) for value in vals]\n",
    "patches = [matplotlib.patches.Patch(color=cols[0], label='below zero'), matplotlib.patches.Patch(color=cols[1], label='above zero')]\n",
    "plt.legend(handles = patches)\n",
    "plt.xlabel('x')\n",
    "plt.ylabel('y')\n",
    "plt.title('f(x,y)=x^2−2*y^2, with threshold')\n",
    "plt.show()"
   ]
  },
  {
   "cell_type": "markdown",
   "metadata": {},
   "source": [
    "## 9\n",
    "This exercise will walk through some basic numerical programming exercises.\n",
    "1. Synthesize $n=10^4$ normally distributed data points with mean $\\mu=2$ and a standard deviation of $\\sigma=1$. Call these observations from a random variable $X$, and call the vector of observations that you generate, $\\textbf{x}$.\n",
    "2. Calculate the mean and standard deviation of $\\textbf{x}$ to validate (1) and provide the result to a precision of four significant figures.\n",
    "3. Plot a histogram of the data in $\\textbf{x}$ with 30 bins\n",
    "4. What is the 90th percentile of $\\textbf{x}$? The 90th percentile is the value below which 90% of observations can be found.\n",
    "5. What is the 99th percentile of $\\textbf{x}$?\n",
    "6. Now synthesize $n=10^4$ normally distributed data points with mean $\\mu=0$ and a standard deviation of $\\sigma=3$. Call these observations from a random variable $Y$, and call the vector of observations that you generate, $\\textbf{y}$.\n",
    "7. Plot the histogram of the data in $\\textbf{y}$ on a (new) plot with the histogram of $\\textbf{x}$, so that both histograms can be seen and compared.\n",
    "8. Using the observations from $\\textbf{x}$ and $\\textbf{y}$, estimate $E[XY]$"
   ]
  },
  {
   "cell_type": "markdown",
   "metadata": {},
   "source": [
    "**ANSWER**"
   ]
  },
  {
   "cell_type": "code",
   "execution_count": 12,
   "metadata": {},
   "outputs": [
    {
     "name": "stdout",
     "output_type": "stream",
     "text": [
      "The mean of x is 1.992\n",
      "The standard deviation of x is 0.9947\n"
     ]
    },
    {
     "data": {
      "image/png": "[encoded data removed]",
      "text/plain": [
       "<Figure size 432x288 with 1 Axes>"
      ]
     },
     "metadata": {},
     "output_type": "display_data"
    },
    {
     "name": "stdout",
     "output_type": "stream",
     "text": [
      "The 90th percentile of x is  3.28179700229769\n",
      "The 99th percentile of x is  4.3035926583464805\n"
     ]
    },
    {
     "data": {
      "image/png": "[encoded data removed]",
      "text/plain": [
       "<Figure size 432x288 with 1 Axes>"
      ]
     },
     "metadata": {},
     "output_type": "display_data"
    },
    {
     "name": "stdout",
     "output_type": "stream",
     "text": [
      "The estimate of E[XY] is  0.000406824505963138\n"
     ]
    }
   ],
   "source": [
    "import numpy as np\n",
    "import matplotlib.pyplot as plt\n",
    "\n",
    "# 1\n",
    "x = np.random.normal(2,1,10**4)\n",
    "\n",
    "# 2\n",
    "meanx = np.mean(x); print('The mean of x is {0:.4g}'.format(meanx))\n",
    "stdx = np.std(x); print('The standard deviation of x is {0:.4g}'.format(stdx))\n",
    "\n",
    "# 3\n",
    "plt.hist(x, bins=30)\n",
    "plt.xlabel('x')\n",
    "plt.title('Distribution of X')\n",
    "plt.show()\n",
    "\n",
    "# 4\n",
    "x90 = np.percentile(x,90)\n",
    "print('The 90th percentile of x is ', x90)\n",
    "\n",
    "# 5\n",
    "x99 = np.percentile(x,99)\n",
    "print('The 99th percentile of x is ', x99)\n",
    "\n",
    "# 6\n",
    "y = np.random.normal(0,3,10**4)\n",
    "\n",
    "# 7\n",
    "plt.hist([x,y], bins=30, alpha=0.5,label=['x','y'])\n",
    "plt.legend()\n",
    "plt.title('Distribution of X and Y')\n",
    "plt.show()\n",
    "#???\n",
    "\n",
    "# 8\n",
    "exy = x@y/10**4\n",
    "print('The estimate of E[XY] is ',exy)\n"
   ]
  },
  {
   "cell_type": "markdown",
   "metadata": {},
   "source": [
    "## 10\n",
    "Estimate the integral of the function $f(x)$ on the interval $0\\leq x < 2.5$ assuming we only know the following points from $f$:\n",
    "\n",
    "*Table 1. Dataset containing n=5 observations*\n",
    "\n",
    "| $x_i$ | 0.0 | 0.5 | 1.0 | 1.5 | 2.0 |\n",
    "|-|-|-|-|-|-|\n",
    "| $y_i$ | 6 | 7 | 8 | 4 | 1 |\n"
   ]
  },
  {
   "cell_type": "code",
   "execution_count": 44,
   "metadata": {},
   "outputs": [
    {
     "name": "stdout",
     "output_type": "stream",
     "text": [
      "The estimation of the integral of f(x) on the interval is  13.0\n"
     ]
    }
   ],
   "source": [
    "import numpy as np\n",
    "\n",
    "x10 = np.array([0.5]*5)\n",
    "y10 = np.array([6,7,8,4,1])\n",
    "\n",
    "inty = x10@y10\n",
    "print('The estimation of the integral of f(x) on the interval is ', inty)"
   ]
  },
  {
   "cell_type": "markdown",
   "metadata": {
    "collapsed": true
   },
   "source": [
    "# Version Control via Git"
   ]
  },
  {
   "cell_type": "markdown",
   "metadata": {},
   "source": [
    "## 11\n",
    "Complete the [Atlassian Git tutorial](https://www.atlassian.com/git/tutorials/what-is-version-control), specifically the following sections. Try each concept that's presented. For this tutorial, instead of using BitBucket, use Github. Create a github account here if you don't already have one: https://github.com/\n",
    "1. [What is version control](https://www.atlassian.com/git/tutorials/what-is-version-control)\n",
    "2. [What is Git](https://www.atlassian.com/git/tutorials/what-is-git)\n",
    "3. [Install Git](https://www.atlassian.com/git/tutorials/install-git)\n",
    "4. [Setting up a repository](https://www.atlassian.com/git/tutorials/install-git)\n",
    "5. [Saving changes](https://www.atlassian.com/git/tutorials/saving-changes)\n",
    "6. [Inspecting a repository](https://www.atlassian.com/git/tutorials/inspecting-a-repository)\n",
    "7. [Undoing changes](https://www.atlassian.com/git/tutorials/undoing-changes)\n",
    "8. [Rewriting history](https://www.atlassian.com/git/tutorials/rewriting-history)\n",
    "9. [Syncing](https://www.atlassian.com/git/tutorials/syncing)\n",
    "10. [Making a pull request](https://www.atlassian.com/git/tutorials/making-a-pull-request)\n",
    "11. [Using branches](https://www.atlassian.com/git/tutorials/using-branches)\n",
    "12. [Comparing workflows](https://www.atlassian.com/git/tutorials/comparing-workflows)\n",
    "\n",
    "For your answer, affirm that you either completed the tutorial or have previous experience with all of the concepts above. Do this by typing your name below and selecting the situation that applies from the two options in brackets."
   ]
  },
  {
   "cell_type": "markdown",
   "metadata": {},
   "source": [
    "**ANSWER**\n",
    "\n",
    "*I, **Ruiqi Wang**, affirm that I have **completed the above tutorial.***"
   ]
  },
  {
   "cell_type": "markdown",
   "metadata": {},
   "source": [
    "## 12\n",
    "Using Github to create a static HTML website:\n",
    "1. Create a branch in your `machine-learning-course` repo called \"gh-pages\" and checkout that branch (this will provide an example of how to create a simple static website using [Github Pages](https://pages.github.com/))\n",
    "2. Create a file called \"index.html\" with the contents \"Hello World\" and add, commit, and push it to that branch.\n",
    "3. Submit the following: (a) a link to your github repository and (b) a link to your new \"Hello World\" website. The latter should be at the address https://[USERNAME].github.io/ECE590-assignment0 (where [USERNAME] is your github username)."
   ]
  },
  {
   "cell_type": "markdown",
   "metadata": {},
   "source": [
    "**ANSWER**<br>\n",
    "(a) The link to my github repository https://github.com/Ruiqi22Wang/machine-learning-course\n",
    "<br>\n",
    "(b) The link to my new \"Hello World\" website https://Ruiqi22Wang.github.io/machine-learning-course \n"
   ]
  },
  {
   "cell_type": "markdown",
   "metadata": {
    "collapsed": true
   },
   "source": [
    "# Exploratory Data Analysis\n",
    "## 13\n",
    "Here you'll bring together some of the individual skills that you demonstrated above and create a Jupyter notebook based blog post on data analysis.\n",
    "\n",
    "1. Find a dataset that interests you and relates to a question or problem that you find intriguing\n",
    "2. Using a Jupyter notebook, describe the dataset, the source of the data, and the reason the dataset was of interest.\n",
    "3. Check the data and see if they need to be cleaned: are there missing values? Are there clearly erroneous values? Do two tables need to be merged together? Clean the data so it can be visualized.\n",
    "3. Plot the data, demonstrating interesting features that you discover. Are there any relationships between variables that were surprising or patterns that emerged? Please exercise creativity and curiosity in your plots.\n",
    "4. What insights are you able to take away from exploring the data? Is there a reason why analyzing the dataset you chose is particularly interesting or important? Summarize this as if your target audience was the readership of a major news organization - boil down your findings in a way that is accessible, but still accurate.\n",
    "5. Create a public repository on your github account titled \"machine-learning-course\". In it, create a readme file that contains the heading \"ECE590: Introductory Machine Learning for Data Science\". Add, commit, and push that Jupyter notebook to the master branch. Provide the link to the that post here."
   ]
  },
  {
   "cell_type": "markdown",
   "metadata": {},
   "source": [
    "**ANSWER**\n",
    "<br>The link to the Jupyter notebook in the master branch of the machine-learning-course repository is:<br>\n",
    "https://github.com/Ruiqi22Wang/machine-learning-course/blob/master/Assignment1_Q13.ipynb\n"
   ]
  }
 ],
 "metadata": {
  "kernelspec": {
   "display_name": "Python 3",
   "language": "python",
   "name": "python3"
  },
  "language_info": {
   "codemirror_mode": {
    "name": "ipython",
    "version": 3
   },
   "file_extension": ".py",
   "mimetype": "text/x-python",
   "name": "python",
   "nbconvert_exporter": "python",
   "pygments_lexer": "ipython3",
   "version": "3.6.5"
  }
 },
 "nbformat": 4,
 "nbformat_minor": 2
}
